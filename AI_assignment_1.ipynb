{
  "cells": [
    {
      "cell_type": "markdown",
      "metadata": {
        "id": "view-in-github",
        "colab_type": "text"
      },
      "source": [
        "<a href=\"https://colab.research.google.com/github/Angosepeter/alx-low_level_programming/blob/master/AI_assignment_1.ipynb\" target=\"_parent\"><img src=\"https://colab.research.google.com/assets/colab-badge.svg\" alt=\"Open In Colab\"/></a>"
      ]
    },
    {
      "cell_type": "markdown",
      "metadata": {
        "id": "r7KIJbpFjOJ5"
      },
      "source": [
        "# Artificial Intelligence\n",
        "# Assignment #1\n"
      ]
    },
    {
      "cell_type": "markdown",
      "metadata": {
        "id": "QjqdYWdwjOJ2"
      },
      "source": [
        "##Paper instructions\n",
        "\n",
        "Please do not hesitate to contact me for any clarifications. This is for an intro to AI class. The github link to the repository for the book is this: https://github.com/aimacode/aima-python/blob/master/search.py\n",
        "\n",
        "##The instructions for the assignment:\n",
        "\n",
        "In this part of the programming assignment, your task is to implement different search algorithms and use them in solving maze problems. More concretely, you will program an agent to find a path through the maze and reach the exit. You can consult and base your code on some Python implementations, Links to an external site. but cite all your sources.\n",
        "\n",
        "Your program will solve the problem of finding the shortest path given an initial start state and one goal state. The maze layout will be provided as a simple text file, in which '%' means obstacles, 'S' represents the start position, and 'G' is the goal location. See the mazes files for an illustration. Maze1.txt Download Maze1.txtMaze2.txt Download Maze2.txtMaze3.txtDownload Maze3.txt\n",
        "\n",
        "The agent can move in one of four directions North, West, South, or East.\n",
        "\n",
        "You should design the state representation, transition model, and goal test necessary to solve the problem. Then implement any two of the following search algorithms:\n",
        "\n",
        "Depth-first search\n",
        "A* search\n",
        "\n",
        "Your program should run with Python 3.8. Your code can only import extra modules if they are part of the standard Python library. You should upload your source code (.py) along with this homework. For A*, you should implement the Manhattan distance from the current position to the goal as the heuristic function for A* search and best first.\n",
        "\n",
        "For each maze, your program should output a solution (this can be shown in the command line using \"x\" to denote the path), the solution cost, and the number of nodes expanded in your search.\n",
        "\n",
        "Your program should run as follows:\n",
        "\n",
        "python search.py –method astar -heuristic manhattan maze.txt\n",
        "\n",
        "Where astar is the name of the method, which can be depth-first, greedy, iterative, or astar, manhattan is the name of the heuristic that can be manhattan or none, and maze.txt is the input file. The three mazes are provided for you to test your program, we may test others.\n",
        "\n",
        "-Take a screenshot of the output of your program for each of the search algorithms for Maze1.txt Download Maze1.txt\n",
        "\n",
        "-Write a program to compare the performance of two search strategies you choose for Maze2.txt Download Maze2.txt.\n",
        "\n",
        "\n",
        "This is the link to the book: https://fiudit-my.sharepoint.com/:b:/r/personal/aloiz002_fiu_edu/Documents/Russell%20%26%20Norvig%20(2021)%20Artificial%20Intelligence_%20A%20Modern%20Approach%20(Global%20Edition).pdf?csf=1&web=1&e=nPF7mq\n",
        "Comments from Customer\n",
        "This task should be completed with well-commented code. Please comment all methods and functions.\n"
      ]
    },
    {
      "cell_type": "markdown",
      "metadata": {
        "id": "p42TzSZKjOJ9"
      },
      "source": [
        "## The maze\n",
        "\n",
        "A `List of Lists` is used to represent the maze(maze1.txt). Cells marked as '%' are obstacles ,'s'  start position and 'G' goal location."
      ]
    },
    {
      "cell_type": "code",
      "source": [
        "maze = [\n",
        "    \"%%%%%%%%%%%%%%%%%%%%%%%%%%%%%%%%%%%%%%%%%%%%%%%%%%%%%%%%%%%%%\",\n",
        "    \"%     %       %             %         %     %           %   %\",\n",
        "    \"%%% %%% %%%%%   %%%%% %%%%% %%% %%%%%%% % %%% %%%%%%%%%%% %%%\",\n",
        "    \"%   %   %     %   % %   % %   %         %          % % %    %\",\n",
        "    \"% %%% %%% %%% %%% % %%% % %%% % %%%%%% %%%%% %%%%% % % %%%% %\",\n",
        "    \"% %   % %   % %   %   % % % % %     %        %   % % %      %\",\n",
        "    \"%   %%% % % % % % % % %%% % % % %%% % %%%% % %%% % % %% % % %\",\n",
        "    \"% %   %   % %   %   % %   % %     % % %  % %     % %  %%% % %\",\n",
        "    \"% %%%%%%% % % %%% %%% %%%   %%% %%% % % %% %%%%% %%%% % % % %\",\n",
        "    \"%   %   % %       % % %   % % %  %  % %  %    %     %   % % %\",\n",
        "    \"% % %%% % %%%%%%%%% % % %%% % %  % %% %% % %%%%%%%%%%% %%%% %\",\n",
        "    \"% %   % %   %       %%% %     %  %    %  %      %           %\",\n",
        "    \"% % %%% %%%%% %%%%%   % %%%%%%%% %%% %%% % %% %%% %%%%%%% % %\",\n",
        "    \"% %   %       %     %   %        %     % %  %   %     %   % %\",\n",
        "    \"% %%%%%%% %%%%% %%%%% % %%%%% %%%%%%%%%% % %%%%%% %%% %%% % %\",\n",
        "    \"% % %     %     %   % %             %    %    %   %     % % %\",\n",
        "    \"%   %%% %%% %%%%%%% %%%%% %%%%%%% %%% %% %%%  % %%% %%% %%% %\",\n",
        "    \"% %   %   %       % %     %            %   %    %     %   % %\",\n",
        "    \"% %%%%% % %%%%%%% %%%%%%% %%%%%%%% %%% % %%%%%% % % %%%%% % %\",\n",
        "    \"%S%     %   %     %       %   %    %   %        % % %   % % %\",\n",
        "    \"%%%%%% %% % % %%%%% %%%%% %%% % %%%% %%%%%%%%%%%%%%%% %%% % %\",\n",
        "    \"%G        % %           %     %           %           %     %\",\n",
        "    \"%%%%%%%%%%%%%%%%%%%%%%%%%%%%%%%%%%%%%%%%%%%%%%%%%%%%%%%%%%%%%\"\n",
        "]"
      ],
      "metadata": {
        "id": "vu47_MWlrex8"
      },
      "execution_count": null,
      "outputs": []
    },
    {
      "cell_type": "markdown",
      "source": [
        "## agent\n",
        "Our agent 'S' for this case starts at the bottom left and can either north,south, East,and west looking for the 'G' in the maze."
      ],
      "metadata": {
        "id": "oy2sFV4Q0dws"
      }
    },
    {
      "cell_type": "code",
      "source": [
        "MOVES = [(1, 0), (-1, 0), (0, 1), (0, -1)]"
      ],
      "metadata": {
        "id": "_WX2pDi5QTc7"
      },
      "execution_count": 8,
      "outputs": []
    },
    {
      "cell_type": "code",
      "source": [
        "start = (len(maze)-1, 0)"
      ],
      "metadata": {
        "id": "QX7l9FXb0Z79"
      },
      "execution_count": 9,
      "outputs": []
    },
    {
      "cell_type": "code",
      "source": [
        "goal = (0, len(maze)-1)"
      ],
      "metadata": {
        "id": "tEn1eIp6r7qy"
      },
      "execution_count": 10,
      "outputs": []
    },
    {
      "cell_type": "code",
      "source": [
        "# Updates the maze with this information\n",
        "maze[start[0]][start[1]] = 'S'\n",
        "maze[goal[0]][goal[1]] = 'G'\n"
      ],
      "metadata": {
        "id": "3SERnhffsIOp"
      },
      "execution_count": 11,
      "outputs": []
    },
    {
      "cell_type": "markdown",
      "source": [
        "## Search\n",
        "\n",
        "\n",
        "A general search pseudocode is as follows:\n",
        "\n",
        "```\n",
        "search:\n",
        "    Initialize frontier (and add start node)\n",
        "    Initialize explored (and add start node)\n",
        "    \n",
        "    while frontier is not empy:\n",
        "        \n",
        "        node <- remove a node from frontier\n",
        "        add node to explored\n",
        "        \n",
        "        if node is goal, return\n",
        "        \n",
        "        for each child of node:\n",
        "            add child to frontier (based on some conditions)\n",
        "            \n",
        "            #The pseudocode outlines diffrent search algorithmns that can be used with A* strategy  to find the solution to the problem"
      ],
      "metadata": {
        "id": "GVo6OAqksf5a"
      }
    },
    {
      "cell_type": "markdown",
      "source": [
        "##maze_state\n",
        "state representation model with:\n",
        " #position: Represents the current position of the agent in the maze as a tuple (x, y)\n",
        " path_cost: Represents the cost of reaching the current state from the start state\n",
        " parent: Stores a reference to the parent state, which is used to reconstruct the path once the goal state is reached.\n",
        " get_neighbors(): Computes the neighboring states that can be reached from the current state"
      ],
      "metadata": {
        "id": "KB6OEsG_Q1aI"
      }
    },
    {
      "cell_type": "code",
      "source": [
        "class MazeState:\n",
        "    def __init__(self, position, path_cost):\n",
        "        self.position = position  # Represents the current (x, y) coordinates in the maze\n",
        "        self.path_cost = path_cost  # Represents the cost to reach this state from the start\n",
        "        self.parent = None  # Reference to the parent state for path reconstruction\n",
        "\n",
        "    def __eq__(self, other):\n",
        "        return self.position == other.position\n",
        "\n",
        "    def __hash__(self):\n",
        "        return hash(self.position)\n",
        "\n",
        "    def __str__(self):\n",
        "        return f\"Position: {self.position}, Cost: {self.path_cost}\"\n",
        "\n",
        "    def __lt__(self, other):\n",
        "        return self.path_cost < other.path_cost\n",
        "\n",
        "    def get_neighbors(self, maze):\n",
        "        neighbors = []\n",
        "        x, y = self.position\n",
        "\n",
        "        # Define possible movements (North, West, South, East)\n",
        "        movements = [(0, 1), (0, -1), (1, 0), (-1, 0)]\n",
        "\n",
        "        for dx, dy in movements:\n",
        "            nx, ny = x + dx, y + dy\n",
        "            neighbor = (nx, ny)\n",
        "\n",
        "            # Check if the neighbor is within bounds and not an obstacle\n",
        "            if 0 <= nx < len(maze) and 0 <= ny < len(maze[0]) and maze[nx][ny] != '%':\n",
        "                cost = self.path_cost + 1  # Assuming uniform cost for each step\n",
        "                neighbors.append(MazeState(neighbor, cost))\n",
        "\n",
        "        return neighbors\n"
      ],
      "metadata": {
        "id": "bm_4inegRrPT"
      },
      "execution_count": null,
      "outputs": []
    },
    {
      "cell_type": "markdown",
      "source": [
        "##Maze transition model\n",
        "maze: Represents the maze as a 2D grid. It is used to check whether a particular action is valid (e.g., whether the agent will hit an obstacle)\n",
        "\n",
        "apply_action: Takes a current state and an action (e.g., (1, 0) for moving North) as input and calculates the resulting state after applying the action"
      ],
      "metadata": {
        "id": "H2ZcqcXUTv3J"
      }
    },
    {
      "cell_type": "code",
      "source": [
        "class MazeTransitionModel:\n",
        "    def __init__(self, maze):\n",
        "        self.maze = maze  # The maze represented as a 2D grid\n",
        "\n",
        "    def apply_action(self, state, action):\n",
        "        x, y = state.position\n",
        "        dx, dy = action\n",
        "\n",
        "        new_x, new_y = x + dx, y + dy\n",
        "\n",
        "        # Check if the new position is valid and not an obstacle\n",
        "        if (\n",
        "            0 <= new_x < len(self.maze) and\n",
        "            0 <= new_y < len(self.maze[0]) and\n",
        "            self.maze[new_x][new_y] != '%'\n",
        "        ):\n",
        "            # Calculate the cost of the action (assuming uniform cost)\n",
        "            action_cost = 1\n",
        "\n",
        "            # Create a ne inw state representing the result of the action\n",
        "            new_state = MazeState((new_x, new_y), state.path_cost + action_cost)\n",
        "            new_state.parent = state  # Set the parent reference for path reconstruction\n",
        "\n",
        "            return new_state\n",
        "\n",
        "        # If the action is invalid (e.g., hitting an obstacle), return None\n",
        "        return None"
      ],
      "metadata": {
        "id": "Z5vlS6DUT3I_"
      },
      "execution_count": null,
      "outputs": []
    },
    {
      "cell_type": "markdown",
      "source": [
        "##is_goal_state\n",
        "The goal test  checks  whether the agent's current position matches the coordinates of the goal location in the maze."
      ],
      "metadata": {
        "id": "WcRn9-AAVP3b"
      }
    },
    {
      "cell_type": "code",
      "source": [
        "def is_goal_state(state, goal_position):\n",
        "    \"\"\"\n",
        "    Checks if the given state is a goal state by comparing its position with the goal position.\n",
        "\n",
        "    Args:\n",
        "        state (MazeState): The current state to be tested.\n",
        "        goal_position (tuple): The coordinates (x, y) of the goal position.\n",
        "\n",
        "    Returns:\n",
        "        bool: True if the state is a goal state, False otherwise.\n",
        "    \"\"\"\n",
        "    return state.position == goal_position\n"
      ],
      "metadata": {
        "id": "fJ3l6sB7VxTY"
      },
      "execution_count": null,
      "outputs": []
    },
    {
      "cell_type": "markdown",
      "metadata": {
        "id": "qL2pQZzFjOKG"
      },
      "source": [
        "<a id=\"is_obstacle\"></a>\n",
        "## is_obstacle\n",
        "\n",
        "This helper fuction checks if a cell is an obstacle\n",
        "\n",
        "* **arg1** cell str: the cell to check\n",
        "\n",
        "**returns**\n",
        "* **True** if the cell is an obstacle, **False** otherwise"
      ]
    },
    {
      "cell_type": "code",
      "execution_count": null,
      "metadata": {
        "id": "EkTxgDefjOKH"
      },
      "outputs": [],
      "source": [
        "def is_obstacle(cell):\n",
        "    if cell == '%':\n",
        "        return True\n",
        "    else:\n",
        "        return False"
      ]
    },
    {
      "cell_type": "code",
      "execution_count": null,
      "metadata": {
        "id": "_45CnKk2jOKH"
      },
      "outputs": [],
      "source": [
        "assert is_obstacle('%') == True\n",
        "assert is_obstacle(' ') == False\n",
        "assert is_obstacle('S') == False"
      ]
    },
    {
      "cell_type": "markdown",
      "metadata": {
        "id": "c0zzEaB-jOKH"
      },
      "source": [
        "<a id=\"is_within_bounds\"></a>\n",
        "## is_within_bounds\n",
        "\n",
        "This helper function checks if a point is within the bounds of the maze\n",
        "\n",
        "* **arg1** point Tuple[int, int]: the point to check\n",
        "* **arg2** rows int: the number of rows in the maze\n",
        "* **arg3** cols int: the number of columns in the maze\n",
        "\n",
        "**returns**\n",
        "* **True** if the point is within the bounds of the maze **False** otherwise"
      ]
    },
    {
      "cell_type": "code",
      "execution_count": null,
      "metadata": {
        "id": "AeUu9HcjjOKH"
      },
      "outputs": [],
      "source": [
        "def is_within_bounds(point, rows, cols):\n",
        "    row = point[0]\n",
        "    col = point[1]\n",
        "    if row < 0 or col < 0:\n",
        "        return False\n",
        "    if row >= rows or col >= cols:\n",
        "        return False\n",
        "    else:\n",
        "        return True"
      ]
    },
    {
      "cell_type": "code",
      "execution_count": null,
      "metadata": {
        "id": "HNJd4KQWjOKI"
      },
      "outputs": [],
      "source": [
        "assert is_within_bounds((0,0), 21, 21) == True\n",
        "assert is_within_bounds((0,0), 0, 21) == False\n",
        "assert is_within_bounds((0,0), 21, 0) == False"
      ]
    },
    {
      "cell_type": "markdown",
      "metadata": {
        "id": "9dNns645jOKI"
      },
      "source": [
        "<a id=\"get_neighbors\"></a>\n",
        "## get_neighbors\n",
        "\n",
        "This helper function returns the neighbors of a point in the maze where a neighbor is defined as a point that is north, south, east, or west of the point and is within the bounds of the maze\n",
        "\n",
        "* **arg1** point Tuple[int, int]: the point to check\n",
        "* **arg2** rows int: the number of rows in the maze\n",
        "* **arg3** cols int: the number of columns in the maze\n",
        "\n",
        "**returns**\n",
        "* **neighbors** List[Tuple[int, int]]: the neighbors of the point"
      ]
    },
    {
      "cell_type": "code",
      "execution_count": null,
      "metadata": {
        "id": "pHrETZZxjOKI"
      },
      "outputs": [],
      "source": [
        "def get_neighbors(point, rows, cols):\n",
        "    row = point[0]\n",
        "    col = point[1]\n",
        "    neighbors = []\n",
        "    if is_within_bounds((row-1, col), rows, cols):\n",
        "        neighbors.append((row-1, col))\n",
        "    if is_within_bounds((row+1, col), rows, cols):\n",
        "        neighbors.append((row+1, col))\n",
        "    if is_within_bounds((row, col-1), rows, cols):\n",
        "        neighbors.append((row, col-1))\n",
        "    if is_within_bounds((row, col+1), rows, cols):\n",
        "        neighbors.append((row, col+1))\n",
        "    return neighbors"
      ]
    },
    {
      "cell_type": "code",
      "execution_count": null,
      "metadata": {
        "id": "JHAfESUajOKI"
      },
      "outputs": [],
      "source": [
        "assert get_neighbors((0,0), 21, 21) == [(1,0), (0,1)]\n",
        "assert get_neighbors((0,0), 0, 21) == []\n",
        "assert get_neighbors((0,0), 21, 0) == []"
      ]
    },
    {
      "cell_type": "markdown",
      "metadata": {
        "id": "yFp507U_jOKJ"
      },
      "source": [
        "<a id=\"switch_symbols\"></a>\n",
        "## switch_symbols\n",
        "\n",
        "This helper function replaces appropriate cells using  and 'S', 'G', and '%' are not replaced.\n",
        "\n",
        "* **arg1** path Dict[Tuple[int, int], Tuple[int, int]]: the path from start to goal\n",
        "\n",
        "**returns**\n",
        "* **None**"
      ]
    },
    {
      "cell_type": "code",
      "execution_count": 12,
      "metadata": {
        "id": "0m_3ctCujOKJ"
      },
      "outputs": [],
      "source": [
        "def switch_symbols(path):\n",
        "    for key in path:\n",
        "        maze[key[0]][key[1]] = ' '\n",
        "    current = goal\n",
        "    while current != start:\n",
        "        maze[current[0]][current[1]] = ' '\n",
        "        current = path[current]\n",
        "    maze[start[0]][start[1]] = 'S'\n",
        "    maze[goal[0]][goal[1]] = 'G'"
      ]
    },
    {
      "cell_type": "markdown",
      "metadata": {
        "id": "zil-JNZljOKK"
      },
      "source": [
        "## Problem #1\n",
        "\n",
        "\n",
        "Implement a depth-first search(DFS) function to help the agent\n",
        " find a path to goal.\n"
      ]
    },
    {
      "cell_type": "code",
      "execution_count": null,
      "metadata": {
        "id": "QiknosS4jOKL"
      },
      "outputs": [],
      "source": [
        "def is_obstacle(cell):\n",
        "    if cell == '%':\n",
        "        return True\n",
        "    else:\n",
        "        return False\n",
        "\n",
        "def is_within_bounds(point, rows, cols):\n",
        "    row = point[0]\n",
        "    col = point[1]\n",
        "    if row < 0 or col < 0:\n",
        "        return False\n",
        "    if row >= rows or col >= cols:\n",
        "        return False\n",
        "    else:\n",
        "        return True"
      ]
    },
    {
      "cell_type": "markdown",
      "metadata": {
        "id": "9F5lkJfejOKM"
      },
      "source": [
        "<a id=\"get_neighbors\"></a>\n",
        "## get_neighbors\n",
        "\n",
        "This helper function returns the neighbors of a point in the world where a neighbor is defined as a point that is up, down, left, or right of the point and is within the bounds of the world\n",
        "\n",
        "* **arg1** point Tuple[int, int]: the point to check\n",
        "* **arg2** rows int: the number of rows in the world\n",
        "* **arg3** cols int: the number of columns in the world\n",
        "\n",
        "**returns**\n",
        "* **neighbors** List[Tuple[int, int]]: the neighbors of the point"
      ]
    },
    {
      "cell_type": "code",
      "execution_count": null,
      "metadata": {
        "id": "K4UynLCKjOKM"
      },
      "outputs": [],
      "source": [
        "def get_neighbors(point, rows, cols):\n",
        "    row = point[0]\n",
        "    col = point[1]\n",
        "    neighbors = []\n",
        "    if is_within_bounds((row+1, col), rows, cols):\n",
        "        neighbors.append((row+1, col))\n",
        "    if is_within_bounds((row, col+1), rows, cols):\n",
        "        neighbors.append((row, col+1))\n",
        "    if is_within_bounds((row, col-1), rows, cols):\n",
        "        neighbors.append((row, col-1))\n",
        "    if is_within_bounds((row-1, col), rows, cols):\n",
        "        neighbors.append((row-1, col))\n",
        "    return neighbors"
      ]
    },
    {
      "cell_type": "markdown",
      "metadata": {
        "id": "W2GXUK26jOKM"
      },
      "source": [
        "<a id=\"depth_first_search\"></a>\n",
        "## depth_first_search\n",
        "\n",
        "Description of the function.\n",
        "* **world** List[List[str]]: the search area\n",
        "* **start** Tuple[int, int]: the starting location of the robot\n",
        "* **goal** Tuple[int, int]: the goal location in the search area\n",
        "* **moves** List[Tuple[int, int]]: the allowable moves in the search area\n",
        "\n",
        "\n",
        "**returns** None (but prints out a view of the world; see breadth_first_search function for details)."
      ]
    },
    {
      "cell_type": "code",
      "execution_count": null,
      "metadata": {
        "id": "4FGNVTYTjOKN"
      },
      "outputs": [],
      "source": [
        "def depth_first_search(maze, start, goal, moves):\n",
        "    frontier = [start]  # Stack to store nodes to explore\n",
        "    explored = []  # List to store explored nodes\n",
        "    path = {}  # Dictionary to store the path (child to parent)\n",
        "\n",
        "    while len(frontier) != 0:\n",
        "        node = frontier.pop()  # Get the current node from the stack\n",
        "        explored.append(node)  # Mark the current node as explored\n",
        "\n",
        "        if node == goal:\n",
        "            break  # Goal reached, exit the loop\n",
        "\n",
        "        for child in get_neighbors(node, len(maze), len(maze[0])):\n",
        "            # Check if the child is not explored, not in the frontier, and not an obstacle\n",
        "            if child not in explored and child not in frontier and not is_obstacle(maze[child[0]][child[1]]):\n",
        "                frontier.append(child)  # Add the child to the stack for exploration\n",
        "                path[child] = node  # Store the path information (child to parent)\n",
        "\n",
        "    switch_symbols(path)  # Function to switch symbols to represent the path\n",
        "\n",
        "    # Print the maze with the path\n",
        "    for row in maze:\n",
        "        print(\"\".join(row))\n"
      ]
    },
    {
      "cell_type": "markdown",
      "source": [
        "##sample usage\n",
        "depth_first_search for maze1.txt"
      ],
      "metadata": {
        "id": "dRvWjdvnndUj"
      }
    },
    {
      "cell_type": "code",
      "source": [
        "from collections import deque\n",
        "\n",
        "# Define possible movements (up, down, left, right)\n",
        "movements = [(1, 0), (-1, 0), (0, 1), (0, -1)]\n",
        "\n",
        "def breadth_first_search(maze, start, goal):\n",
        "    rows, cols = len(maze), len(maze[0])\n",
        "\n",
        "    # Initialize the queue with the start position and an empty path\n",
        "    queue = deque([(start, [])])\n",
        "\n",
        "    # Initialize a set to keep track of visited cells\n",
        "    visited = set()\n",
        "\n",
        "    while queue:\n",
        "        current, path = queue.popleft()\n",
        "        x, y = current\n",
        "\n",
        "        # Check if the current position is the goal\n",
        "        if current == goal:\n",
        "            return path + [current]\n",
        "\n",
        "        # Mark the current position as visited\n",
        "        visited.add(current)\n",
        "\n",
        "        # Explore neighbors\n",
        "        for dx, dy in movements:\n",
        "            nx, ny = x + dx, y + dy\n",
        "            neighbor = (nx, ny)\n",
        "\n",
        "            # Check if the neighbor is within bounds and not an obstacle\n",
        "            if 0 <= nx < rows and 0 <= ny < cols and maze[nx][ny] != '%' and neighbor not in visited:\n",
        "                # Add the neighbor to the queue with the updated path\n",
        "                queue.append((neighbor, path + [current]))\n",
        "\n",
        "    # If no path is found, return an empty list to indicate failure\n",
        "    return []\n",
        "\n",
        "# Example usage: for maze.txt\n",
        "if __name__ == \"__main__\":\n",
        "    #  maze is a list of strings where each string represents a row of the maze\n",
        "    maze = [\n",
        "    \"%%%%%%%%%%%%%%%%%%%%%%%%%%%%%%%%%%%%%%%%%%%%%%%%%%%%%%%%%%%%%\",\n",
        "    \"%     %       %             %         %     %           %   %\",\n",
        "    \"%%% %%% %%%%%   %%%%% %%%%% %%% %%%%%%% % %%% %%%%%%%%%%% %%%\",\n",
        "    \"%   %   %     %   % %   % %   %         %          % % %    %\",\n",
        "    \"% %%% %%% %%% %%% % %%% % %%% % %%%%%% %%%%% %%%%% % % %%%% %\",\n",
        "    \"% %   % %   % %   %   % % % % %     %        %   % % %      %\",\n",
        "    \"%   %%% % % % % % % % %%% % % % %%% % %%%% % %%% % % %% % % %\",\n",
        "    \"% %   %   % %   %   % %   % %     % % %  % %     % %  %%% % %\",\n",
        "    \"% %%%%%%% % % %%% %%% %%%   %%% %%% % % %% %%%%% %%%% % % % %\",\n",
        "    \"%   %   % %       % % %   % % %  %  % %  %    %     %   % % %\",\n",
        "    \"% % %%% % %%%%%%%%% % % %%% % %  % %% %% % %%%%%%%%%%% %%%% %\",\n",
        "    \"% %   % %   %       %%% %     %  %    %  %      %           %\",\n",
        "    \"% % %%% %%%%% %%%%%   % %%%%%%%% %%% %%% % %% %%% %%%%%%% % %\",\n",
        "    \"% %   %       %     %   %        %     % %  %   %     %   % %\",\n",
        "    \"% %%%%%%% %%%%% %%%%% % %%%%% %%%%%%%%%% % %%%%%% %%% %%% % %\",\n",
        "    \"% % %     %     %   % %             %    %    %   %     % % %\",\n",
        "    \"%   %%% %%% %%%%%%% %%%%% %%%%%%% %%% %% %%%  % %%% %%% %%% %\",\n",
        "    \"% %   %   %       % %     %            %   %    %     %   % %\",\n",
        "    \"% %%%%% % %%%%%%% %%%%%%% %%%%%%%% %%% % %%%%%% % % %%%%% % %\",\n",
        "    \"%S%     %   %     %       %   %    %   %        % % %   % % %\",\n",
        "    \"%%%%%% %% % % %%%%% %%%%% %%% % %%%% %%%%%%%%%%%%%%%% %%% % %\",\n",
        "    \"%G        % %           %     %           %           %     %\",\n",
        "    \"%%%%%%%%%%%%%%%%%%%%%%%%%%%%%%%%%%%%%%%%%%%%%%%%%%%%%%%%%%%%%\"\n",
        "]\n",
        "\n",
        "    start = (20, 1)  #  start \"S\" position\n",
        "    goal = (20, 80)   #  goal 'G' position\n",
        "\n",
        "    path = breadth_first_search(maze, start, goal)\n",
        "\n",
        "    if path:\n",
        "        # Print the path\n",
        "        for row in maze:\n",
        "            print(row)\n",
        "        print(\"\\nSolution Path:\")\n",
        "        for x, y in path:\n",
        "            maze[x] = maze[x][:y] + 'x' + maze[x][y+1:]\n",
        "            print(\"\".join(maze))\n",
        "    else:\n",
        "        print(\"No path found.\")\n"
      ],
      "metadata": {
        "colab": {
          "base_uri": "https://localhost:8080/"
        },
        "id": "JcI4I4-6iUgP",
        "outputId": "46eebf0e-0892-4709-be97-8a276ef86853"
      },
      "execution_count": null,
      "outputs": [
        {
          "output_type": "stream",
          "name": "stdout",
          "text": [
            "No path found.\n"
          ]
        }
      ]
    },
    {
      "cell_type": "markdown",
      "metadata": {
        "id": "lrRcM37FjOKO"
      },
      "source": [
        "## Problem #2\n",
        "\n",
        "\n",
        "Implement an A$^*$ search function to help the agent find the optimal path to goal. For this problem, when calculating the accumulated path cost assume that every step the agent takes costs 1 unit. Your choice of heuristic will determine whether the resulting path is optimal with respect to cost.   \n",
        "\n",
        "\n",
        "The output guidelines are similar  above."
      ]
    },
    {
      "cell_type": "markdown",
      "metadata": {
        "id": "6cRTzHd3jOKP"
      },
      "source": [
        "<a id=\"heuristic_func\"></a>\n",
        "## heuristic_func\n",
        "\n",
        "This helper function returns the heuristic value for a given point and goal\n",
        "\n",
        "* **arg1** point Tuple[int, int]: the point to check\n",
        "* **arg2** goal Tuple[int, int]: the goal location in the search area\n",
        "\n",
        "**returns**\n",
        "\n",
        "* **heuristic** int: the heuristic value for the point"
      ]
    },
    {
      "cell_type": "code",
      "execution_count": null,
      "metadata": {
        "id": "nzYbgeeQjOKP"
      },
      "outputs": [],
      "source": [
        "def heuristic_func(point, goal):\n",
        "    return abs(point[0] - goal[0]) + abs(point[1] - goal[1])"
      ]
    },
    {
      "cell_type": "code",
      "execution_count": null,
      "metadata": {
        "id": "FN-2W2rdjOKP"
      },
      "outputs": [],
      "source": [
        "assert heuristic_func((0,0), (0,0)) == 0\n",
        "assert heuristic_func((0,0), (1,1)) == 2\n",
        "assert heuristic_func((0,0), (2,2)) == 4"
      ]
    },
    {
      "cell_type": "markdown",
      "metadata": {
        "id": "AygTe8ELjOKQ"
      },
      "source": [
        "<a id=\"a_star_search\"></a>\n",
        "## a_star_search\n",
        "\n",
        "Description function.\n",
        "\n",
        "* **maze** List[List[str]]: the search area\n",
        "* **start** Tuple[int, int]: the starting location of the robot\n",
        "* **goal** Tuple[int, int]: the goal location in the search area\n",
        "* **moves** List[Tuple[int, int]]: the allowable moves in the search area\n",
        "* **heuristic_func** func: the specific heuristic function used to evaluate a location\n",
        "\n",
        "\n",
        "**returns** None (but prints out a view of the maze; see breadth_first_search function for details)."
      ]
    },
    {
      "cell_type": "code",
      "execution_count": null,
      "metadata": {
        "id": "9NkZxoaRjOKQ"
      },
      "outputs": [],
      "source": [
        "def a_star_search(maze, start, goal, MOVES, heuristic_func):\n",
        "    frontier = [start]\n",
        "    explored = []\n",
        "    path = {}\n",
        "    cost = {}\n",
        "    cost[start] = 0\n",
        "    while len(frontier) != 0:\n",
        "        node = frontier.pop(0)\n",
        "        explored.append(node)\n",
        "        if node == goal:\n",
        "            break\n",
        "        for child in get_neighbors(node, len(maze), len(maze[0])):\n",
        "            if child not in explored and child not in frontier and not is_obstacle(maze[child[0]][child[1]]):\n",
        "                frontier.append(child)\n",
        "                cost[child] = cost[node] + 1\n",
        "                path[child] = node\n",
        "                frontier.sort(key=lambda x: cost[x] + heuristic_func(x, goal))\n",
        "    switch_symbols(path)\n",
        "    for row in maze:\n",
        "        print(\"\".join(row))\n",
        "    return"
      ]
    },
    {
      "cell_type": "markdown",
      "source": [
        "##problem #4\n",
        "uploads maze2.txt file\n",
        "\n",
        "compares perfomance with BFS and DNS\n",
        "\n",
        "produces the output"
      ],
      "metadata": {
        "id": "etMGry6jR1vG"
      }
    },
    {
      "cell_type": "code",
      "source": [
        "#uploads maze2.txt file\n",
        "from google.colab import files\n",
        "uploaded = files.upload()\n"
      ],
      "metadata": {
        "id": "z3O8MhSZAjm4",
        "colab": {
          "base_uri": "https://localhost:8080/",
          "height": 73
        },
        "outputId": "234b61f8-85cc-403d-c0be-f7e44c36c942"
      },
      "execution_count": 4,
      "outputs": [
        {
          "output_type": "display_data",
          "data": {
            "text/plain": [
              "<IPython.core.display.HTML object>"
            ],
            "text/html": [
              "\n",
              "     <input type=\"file\" id=\"files-2f26ac6a-aa22-4414-b62f-c91d61a4a56e\" name=\"files[]\" multiple disabled\n",
              "        style=\"border:none\" />\n",
              "     <output id=\"result-2f26ac6a-aa22-4414-b62f-c91d61a4a56e\">\n",
              "      Upload widget is only available when the cell has been executed in the\n",
              "      current browser session. Please rerun this cell to enable.\n",
              "      </output>\n",
              "      <script>// Copyright 2017 Google LLC\n",
              "//\n",
              "// Licensed under the Apache License, Version 2.0 (the \"License\");\n",
              "// you may not use this file except in compliance with the License.\n",
              "// You may obtain a copy of the License at\n",
              "//\n",
              "//      http://www.apache.org/licenses/LICENSE-2.0\n",
              "//\n",
              "// Unless required by applicable law or agreed to in writing, software\n",
              "// distributed under the License is distributed on an \"AS IS\" BASIS,\n",
              "// WITHOUT WARRANTIES OR CONDITIONS OF ANY KIND, either express or implied.\n",
              "// See the License for the specific language governing permissions and\n",
              "// limitations under the License.\n",
              "\n",
              "/**\n",
              " * @fileoverview Helpers for google.colab Python module.\n",
              " */\n",
              "(function(scope) {\n",
              "function span(text, styleAttributes = {}) {\n",
              "  const element = document.createElement('span');\n",
              "  element.textContent = text;\n",
              "  for (const key of Object.keys(styleAttributes)) {\n",
              "    element.style[key] = styleAttributes[key];\n",
              "  }\n",
              "  return element;\n",
              "}\n",
              "\n",
              "// Max number of bytes which will be uploaded at a time.\n",
              "const MAX_PAYLOAD_SIZE = 100 * 1024;\n",
              "\n",
              "function _uploadFiles(inputId, outputId) {\n",
              "  const steps = uploadFilesStep(inputId, outputId);\n",
              "  const outputElement = document.getElementById(outputId);\n",
              "  // Cache steps on the outputElement to make it available for the next call\n",
              "  // to uploadFilesContinue from Python.\n",
              "  outputElement.steps = steps;\n",
              "\n",
              "  return _uploadFilesContinue(outputId);\n",
              "}\n",
              "\n",
              "// This is roughly an async generator (not supported in the browser yet),\n",
              "// where there are multiple asynchronous steps and the Python side is going\n",
              "// to poll for completion of each step.\n",
              "// This uses a Promise to block the python side on completion of each step,\n",
              "// then passes the result of the previous step as the input to the next step.\n",
              "function _uploadFilesContinue(outputId) {\n",
              "  const outputElement = document.getElementById(outputId);\n",
              "  const steps = outputElement.steps;\n",
              "\n",
              "  const next = steps.next(outputElement.lastPromiseValue);\n",
              "  return Promise.resolve(next.value.promise).then((value) => {\n",
              "    // Cache the last promise value to make it available to the next\n",
              "    // step of the generator.\n",
              "    outputElement.lastPromiseValue = value;\n",
              "    return next.value.response;\n",
              "  });\n",
              "}\n",
              "\n",
              "/**\n",
              " * Generator function which is called between each async step of the upload\n",
              " * process.\n",
              " * @param {string} inputId Element ID of the input file picker element.\n",
              " * @param {string} outputId Element ID of the output display.\n",
              " * @return {!Iterable<!Object>} Iterable of next steps.\n",
              " */\n",
              "function* uploadFilesStep(inputId, outputId) {\n",
              "  const inputElement = document.getElementById(inputId);\n",
              "  inputElement.disabled = false;\n",
              "\n",
              "  const outputElement = document.getElementById(outputId);\n",
              "  outputElement.innerHTML = '';\n",
              "\n",
              "  const pickedPromise = new Promise((resolve) => {\n",
              "    inputElement.addEventListener('change', (e) => {\n",
              "      resolve(e.target.files);\n",
              "    });\n",
              "  });\n",
              "\n",
              "  const cancel = document.createElement('button');\n",
              "  inputElement.parentElement.appendChild(cancel);\n",
              "  cancel.textContent = 'Cancel upload';\n",
              "  const cancelPromise = new Promise((resolve) => {\n",
              "    cancel.onclick = () => {\n",
              "      resolve(null);\n",
              "    };\n",
              "  });\n",
              "\n",
              "  // Wait for the user to pick the files.\n",
              "  const files = yield {\n",
              "    promise: Promise.race([pickedPromise, cancelPromise]),\n",
              "    response: {\n",
              "      action: 'starting',\n",
              "    }\n",
              "  };\n",
              "\n",
              "  cancel.remove();\n",
              "\n",
              "  // Disable the input element since further picks are not allowed.\n",
              "  inputElement.disabled = true;\n",
              "\n",
              "  if (!files) {\n",
              "    return {\n",
              "      response: {\n",
              "        action: 'complete',\n",
              "      }\n",
              "    };\n",
              "  }\n",
              "\n",
              "  for (const file of files) {\n",
              "    const li = document.createElement('li');\n",
              "    li.append(span(file.name, {fontWeight: 'bold'}));\n",
              "    li.append(span(\n",
              "        `(${file.type || 'n/a'}) - ${file.size} bytes, ` +\n",
              "        `last modified: ${\n",
              "            file.lastModifiedDate ? file.lastModifiedDate.toLocaleDateString() :\n",
              "                                    'n/a'} - `));\n",
              "    const percent = span('0% done');\n",
              "    li.appendChild(percent);\n",
              "\n",
              "    outputElement.appendChild(li);\n",
              "\n",
              "    const fileDataPromise = new Promise((resolve) => {\n",
              "      const reader = new FileReader();\n",
              "      reader.onload = (e) => {\n",
              "        resolve(e.target.result);\n",
              "      };\n",
              "      reader.readAsArrayBuffer(file);\n",
              "    });\n",
              "    // Wait for the data to be ready.\n",
              "    let fileData = yield {\n",
              "      promise: fileDataPromise,\n",
              "      response: {\n",
              "        action: 'continue',\n",
              "      }\n",
              "    };\n",
              "\n",
              "    // Use a chunked sending to avoid message size limits. See b/62115660.\n",
              "    let position = 0;\n",
              "    do {\n",
              "      const length = Math.min(fileData.byteLength - position, MAX_PAYLOAD_SIZE);\n",
              "      const chunk = new Uint8Array(fileData, position, length);\n",
              "      position += length;\n",
              "\n",
              "      const base64 = btoa(String.fromCharCode.apply(null, chunk));\n",
              "      yield {\n",
              "        response: {\n",
              "          action: 'append',\n",
              "          file: file.name,\n",
              "          data: base64,\n",
              "        },\n",
              "      };\n",
              "\n",
              "      let percentDone = fileData.byteLength === 0 ?\n",
              "          100 :\n",
              "          Math.round((position / fileData.byteLength) * 100);\n",
              "      percent.textContent = `${percentDone}% done`;\n",
              "\n",
              "    } while (position < fileData.byteLength);\n",
              "  }\n",
              "\n",
              "  // All done.\n",
              "  yield {\n",
              "    response: {\n",
              "      action: 'complete',\n",
              "    }\n",
              "  };\n",
              "}\n",
              "\n",
              "scope.google = scope.google || {};\n",
              "scope.google.colab = scope.google.colab || {};\n",
              "scope.google.colab._files = {\n",
              "  _uploadFiles,\n",
              "  _uploadFilesContinue,\n",
              "};\n",
              "})(self);\n",
              "</script> "
            ]
          },
          "metadata": {}
        },
        {
          "output_type": "stream",
          "name": "stdout",
          "text": [
            "Saving maze2.txt to maze2 (1).txt\n"
          ]
        }
      ]
    },
    {
      "cell_type": "code",
      "source": [
        "import time\n",
        "\n",
        "# Define the search algorithms (BFS and DFS)\n",
        "\n",
        "def bfs(maze):\n",
        "    # Implement BFS algorithm here\n",
        "    pass\n",
        "\n",
        "def dfs(maze):\n",
        "    # Implement DFS algorithm here\n",
        "    pass\n",
        "\n",
        "# Read the maze from the file\n",
        "def read_maze(filename):\n",
        "    with open(filename, 'r') as file:\n",
        "        maze = [list(line.strip()) for line in file]\n",
        "    return maze\n",
        "\n",
        "if __name__ == \"__main__\":\n",
        "    maze_file = \"maze2.txt\"\n",
        "    maze = read_maze(maze_file)\n",
        "\n",
        "    # Run BFS and measure execution time\n",
        "    start_time = time.time()\n",
        "    bfs_result = bfs(maze)\n",
        "    bfs_time = time.time() - start_time\n",
        "\n",
        "    # Run DFS and measure execution time\n",
        "    start_time = time.time()\n",
        "    dfs_result = dfs(maze)\n",
        "    dfs_time = time.time() - start_time\n",
        "\n",
        "    # Compare and analyze results\n",
        "    if bfs_result:\n",
        "        print(\"BFS Path Found\")\n",
        "        print(\"BFS Path Length:\", len(bfs_result))\n",
        "        print(\"BFS Execution Time:\", bfs_time)\n",
        "    else:\n",
        "        print(\"BFS Path Not Found\")\n",
        "\n",
        "    if dfs_result:\n",
        "        print(\"DFS Path Found\")\n",
        "        print(\"DFS Path Length:\", len(dfs_result))\n",
        "        print(\"DFS Execution Time:\", dfs_time)\n",
        "    else:\n",
        "        print(\"DFS Path Not Found\")\n"
      ],
      "metadata": {
        "colab": {
          "base_uri": "https://localhost:8080/"
        },
        "id": "52QS5lc4bLpj",
        "outputId": "24db91a2-4e10-4c78-9d64-77611c0a5dcf"
      },
      "execution_count": 7,
      "outputs": [
        {
          "output_type": "stream",
          "name": "stdout",
          "text": [
            "BFS Path Not Found\n",
            "DFS Path Not Found\n"
          ]
        }
      ]
    }
  ],
  "metadata": {
    "kernelspec": {
      "display_name": "Python 3",
      "language": "python",
      "name": "python3"
    },
    "language_info": {
      "codemirror_mode": {
        "name": "ipython",
        "version": 3
      },
      "file_extension": ".py",
      "mimetype": "text/x-python",
      "name": "python",
      "nbconvert_exporter": "python",
      "pygments_lexer": "ipython3",
      "version": "3.11.1"
    },
    "toc": {
      "colors": {
        "hover_highlight": "#DAA520",
        "navigate_num": "#000000",
        "navigate_text": "#333333",
        "running_highlight": "#FF0000",
        "selected_highlight": "#FFD700",
        "sidebar_border": "#EEEEEE",
        "wrapper_background": "#FFFFFF"
      },
      "moveMenuLeft": true,
      "nav_menu": {
        "height": "192px",
        "width": "252px"
      },
      "navigate_menu": true,
      "number_sections": true,
      "sideBar": true,
      "threshold": 4,
      "toc_cell": false,
      "toc_section_display": "block",
      "toc_window_display": false,
      "widenNotebook": false
    },
    "vscode": {
      "interpreter": {
        "hash": "7e77f9a6e6a044ee9ebc72fa267dcea3515eadcefc5b5152159266149606b6dd"
      }
    },
    "colab": {
      "provenance": [],
      "include_colab_link": true
    }
  },
  "nbformat": 4,
  "nbformat_minor": 0
}